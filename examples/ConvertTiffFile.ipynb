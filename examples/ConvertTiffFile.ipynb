{
 "cells": [
  {
   "cell_type": "markdown",
   "id": "c82b644e",
   "metadata": {},
   "source": [
    "## Package install and setup"
   ]
  },
  {
   "cell_type": "code",
   "execution_count": null,
   "id": "cffe4de0",
   "metadata": {},
   "outputs": [],
   "source": [
    "import sys\n",
    "!{sys.executable} -m pip install --upgrade spatial-image-multiscale matplotlib tifffile zarr ome-types distributed"
   ]
  },
  {
   "cell_type": "code",
   "execution_count": 81,
   "id": "a3a9d3cf",
   "metadata": {},
   "outputs": [],
   "source": [
    "from spatial_image_multiscale import to_multiscale\n",
    "from spatial_image import is_spatial_image, to_spatial_image\n",
    "import tifffile\n",
    "import os\n",
    "from urllib.request import urlretrieve\n",
    "import zarr\n",
    "import ome_types\n",
    "import dask.array as da"
   ]
  },
  {
   "cell_type": "code",
   "execution_count": null,
   "id": "7b3f65ec",
   "metadata": {},
   "outputs": [],
   "source": [
    "# Faster encoding\n",
    "from dask.distributed import Client, LocalCluster\n",
    "cluster = LocalCluster()  # Launches a scheduler and workers locally\n",
    "client = Client(cluster)"
   ]
  },
  {
   "cell_type": "markdown",
   "id": "aa57d874",
   "metadata": {},
   "source": [
    "## Download example image\n",
    "\n",
    "Lightsheet volume [from the human cortex](https://dandiarchive.org/dandiset/000026/draft/files?location=rawdata%2Fsub-I46%2Fses-SPIM%2F).\n",
    "\n",
    "Mazzamuto, Giacomo; Costantini, Irene; Gavryusev, Vladislav; Castelli, Filippo Maria; Pesce, Luca; Scardigli, Marina; Pavone, Francesco Saverio; Roffilli, Matteo; Silvestri, Ludovico; Brady, Niamh; Ramazzotti, Josephine; Hof, Patrick R.; Boas, David A.; Fischl, Bruce; Morgan, Leah; Yang, Jiarui; Chang, Shuaibin; Laffey, Jessie; Magnain, Caroline; Varadarajan, Divya; Wang, Hui; Frost, Robert; Kouwe, Andre van der; Player, Allison Stevens; Atzeni, Alessia; Gonzalez, Juan Eugenio Iglesias; Balbastre, Yael; Vera, Matthew; Cordero, Devani; Nestor, Kimberly; Ammon, William; Nolan, Jackson; Mora, Jocelyn; Pallares, Erendira Garcia; Augustinack, Jean; Diamond, Bram; Fogarty, Morgan; Boyd, Emma; Varghese, Merina; Dalca, Adrian V.; Edlow, Brian; Frosche, Matthew; Wicinski, Bridget; Chen, I-Chun Anderson (2022) Human brain cell census for BA 44/45 (Version draft) [Data set]. DANDI archive. https://dandiarchive.org/dandiset/000026/draft"
   ]
  },
  {
   "cell_type": "code",
   "execution_count": 22,
   "id": "865974c8",
   "metadata": {},
   "outputs": [],
   "source": [
    "image_name = 'sub-I46_ses-SPIM_sample-BrocaAreaS01_stain-GAD67_chunk-00_SPIM'\n",
    "filename = f'{image_name}.ome.tif'\n",
    "if not os.path.exists(filename):\n",
    "    url = f'https://api.dandiarchive.org/api/assets/fcb6c425-ee14-4247-b2e4-d2550273f1f3/download'\n",
    "    urlretrieve(url, filename)"
   ]
  },
  {
   "cell_type": "markdown",
   "id": "0d34a205",
   "metadata": {},
   "source": [
    "## Inspect metadata, data"
   ]
  },
  {
   "cell_type": "code",
   "execution_count": 23,
   "id": "9d11d71c",
   "metadata": {},
   "outputs": [],
   "source": [
    "tiff = tifffile.TiffFile(filename)"
   ]
  },
  {
   "cell_type": "markdown",
   "id": "18739faa",
   "metadata": {},
   "source": [
    "[OME-TIFF](https://docs.openmicroscopy.org/ome-model/6.2.2/)'s contain useful, standardized metadata and have broad community adoption"
   ]
  },
  {
   "cell_type": "code",
   "execution_count": 29,
   "id": "432abb91",
   "metadata": {},
   "outputs": [
    {
     "data": {
      "text/plain": [
       "True"
      ]
     },
     "execution_count": 29,
     "metadata": {},
     "output_type": "execute_result"
    }
   ],
   "source": [
    "tiff.is_ome"
   ]
  },
  {
   "cell_type": "code",
   "execution_count": 30,
   "id": "eef1e9e7",
   "metadata": {},
   "outputs": [
    {
     "data": {
      "text/plain": [
       "'<ome:OME xmlns:ome=\"http://www.openmicroscopy.org/Schemas/OME/2016-06\" xmlns:xsi=\"http://www.w3.org/2001/XMLSchema-instance\" xsi:schemaLocation=\"http://www.openmicroscopy.org/Schemas/OME/2016-06 http://www.openmicroscopy.org/Schemas/OME/2016-06/ome.xsd\">\\n    <ome:Image ID=\"Image:0\" Name=\"sub-I46_sample-BrocaAreaS01_stain-GAD67_SPIM\">\\n        <ome:AcquisitionDate>2019-10-01T00:00:00</ome:AcquisitionDate>\\n        <ome:Pixels BigEndian=\"false\" DimensionOrder=\"XYZCT\" ID=\"Pixels:0\" Interleaved=\"false\" SizeC=\"1\" SizeT=\"1\" SizeX=\"3882\" SizeY=\"342\" SizeZ=\"242\" Type=\"uint16\" PhysicalSizeX=\"3.3\" PhysicalSizeXUnit=\"µm\" PhysicalSizeY=\"3.3\" PhysicalSizeYUnit=\"µm\" PhysicalSizeZ=\"3.3\" PhysicalSizeZUnit=\"µm\">\\n            <ome:Channel ID=\"Channel:00\" SamplesPerPixel=\"1\" Name=\"GAD67\" ExcitationWavelength=\"638\" EmissionWavelength=\"690\" ExcitationWavelengthUnit=\"nm\" EmissionWavelengthUnit=\"nm\" Fluor=\"Alexa Fluor 647\">\\n                <ome:LightPath />\\n            </ome:Channel>\\n        <ome:TiffData IFD=\"0\" PlaneCount=\"242\" /></ome:Pixels>\\n    </ome:Image>\\n</ome:OME>'"
      ]
     },
     "execution_count": 30,
     "metadata": {},
     "output_type": "execute_result"
    }
   ],
   "source": [
    "tiff.ome_metadata"
   ]
  },
  {
   "cell_type": "code",
   "execution_count": 31,
   "id": "59062f84",
   "metadata": {},
   "outputs": [
    {
     "name": "stdout",
     "output_type": "stream",
     "text": [
      "binary_only=None creator=None datasets=[] experimenter_groups=[] experimenters=[] experiments=[] folders=[] images=[Image(\n",
      "   id='Image:0',\n",
      "   name='sub-I46_sample-BrocaAreaS01_stain-GAD67_SPIM',\n",
      "   pixels=Pixels(\n",
      "      id='Pixels:0',\n",
      "      dimension_order='XYZCT',\n",
      "      size_c=1,\n",
      "      size_t=1,\n",
      "      size_x=3882,\n",
      "      size_y=342,\n",
      "      size_z=242,\n",
      "      type='uint16',\n",
      "      big_endian=False,\n",
      "      channels=[<1 Channels>],\n",
      "      interleaved=False,\n",
      "      physical_size_x=3.3,\n",
      "      physical_size_y=3.3,\n",
      "      physical_size_z=3.3,\n",
      "      tiff_data_blocks=[<1 Tiff_Data_Blocks>],\n",
      "   ),\n",
      "   acquisition_date=datetime.fromisoformat('2019-10-01T00:00:00'),\n",
      ")] instruments=[] plates=[] projects=[] rights=None rois=[] screens=[] structured_annotations=[] uuid=None\n"
     ]
    }
   ],
   "source": [
    "ome = ome_types.from_xml(tiff.ome_metadata)\n",
    "print(ome)"
   ]
  },
  {
   "cell_type": "code",
   "execution_count": 93,
   "id": "290db649",
   "metadata": {},
   "outputs": [
    {
     "data": {
      "text/plain": [
       "['z', 'y', 'x']"
      ]
     },
     "execution_count": 93,
     "metadata": {},
     "output_type": "execute_result"
    }
   ],
   "source": [
    "dims = [d for d in tiff.series[0].axes.lower().replace('i', 'z').replace('s', 'c')]\n",
    "dims"
   ]
  },
  {
   "cell_type": "code",
   "execution_count": 96,
   "id": "5679e320",
   "metadata": {},
   "outputs": [
    {
     "data": {
      "text/plain": [
       "{'z': 3.3, 'y': 3.3, 'x': 3.3}"
      ]
     },
     "execution_count": 96,
     "metadata": {},
     "output_type": "execute_result"
    }
   ],
   "source": [
    "scale = { d:getattr(ome.images[0].pixels, f\"physical_size_{d}\") for d in dims}\n",
    "scale"
   ]
  },
  {
   "cell_type": "code",
   "execution_count": 97,
   "id": "59e371b9",
   "metadata": {},
   "outputs": [
    {
     "data": {
      "text/plain": [
       "{'z': 'micrometer', 'y': 'micrometer', 'x': 'micrometer'}"
      ]
     },
     "execution_count": 97,
     "metadata": {},
     "output_type": "execute_result"
    }
   ],
   "source": [
    "axis_units = { d:str(getattr(ome.images[0].pixels, f\"physical_size_{d}_quantity\").units) for d in dims}\n",
    "axis_units"
   ]
  },
  {
   "cell_type": "code",
   "execution_count": 98,
   "id": "33d1afd0",
   "metadata": {},
   "outputs": [
    {
     "data": {
      "text/html": [
       "<table>\n",
       "    <tr>\n",
       "        <td>\n",
       "            <table>\n",
       "                <thead>\n",
       "                    <tr>\n",
       "                        <td> </td>\n",
       "                        <th> Array </th>\n",
       "                        <th> Chunk </th>\n",
       "                    </tr>\n",
       "                </thead>\n",
       "                <tbody>\n",
       "                    \n",
       "                    <tr>\n",
       "                        <th> Bytes </th>\n",
       "                        <td> 612.81 MiB </td>\n",
       "                        <td> 126.61 MiB </td>\n",
       "                    </tr>\n",
       "                    \n",
       "                    <tr>\n",
       "                        <th> Shape </th>\n",
       "                        <td> (242, 342, 3882) </td>\n",
       "                        <td> (50, 342, 3882) </td>\n",
       "                    </tr>\n",
       "                    <tr>\n",
       "                        <th> Count </th>\n",
       "                        <td> 6 Tasks </td>\n",
       "                        <td> 5 Chunks </td>\n",
       "                    </tr>\n",
       "                    <tr>\n",
       "                    <th> Type </th>\n",
       "                    <td> uint16 </td>\n",
       "                    <td> numpy.ndarray </td>\n",
       "                    </tr>\n",
       "                </tbody>\n",
       "            </table>\n",
       "        </td>\n",
       "        <td>\n",
       "        <svg width=\"201\" height=\"108\" style=\"stroke:rgb(0,0,0);stroke-width:1\" >\n",
       "\n",
       "  <!-- Horizontal lines -->\n",
       "  <line x1=\"10\" y1=\"0\" x2=\"31\" y2=\"21\" style=\"stroke-width:2\" />\n",
       "  <line x1=\"10\" y1=\"37\" x2=\"31\" y2=\"58\" style=\"stroke-width:2\" />\n",
       "\n",
       "  <!-- Vertical lines -->\n",
       "  <line x1=\"10\" y1=\"0\" x2=\"10\" y2=\"37\" style=\"stroke-width:2\" />\n",
       "  <line x1=\"14\" y1=\"4\" x2=\"14\" y2=\"42\" />\n",
       "  <line x1=\"18\" y1=\"8\" x2=\"18\" y2=\"46\" />\n",
       "  <line x1=\"23\" y1=\"13\" x2=\"23\" y2=\"50\" />\n",
       "  <line x1=\"27\" y1=\"17\" x2=\"27\" y2=\"55\" />\n",
       "  <line x1=\"31\" y1=\"21\" x2=\"31\" y2=\"58\" style=\"stroke-width:2\" />\n",
       "\n",
       "  <!-- Colored Rectangle -->\n",
       "  <polygon points=\"10.0,0.0 31.08469041486957,21.08469041486957 31.08469041486957,58.96802878764755 10.0,37.88333837277798\" style=\"fill:#ECB172A0;stroke-width:0\"/>\n",
       "\n",
       "  <!-- Horizontal lines -->\n",
       "  <line x1=\"10\" y1=\"0\" x2=\"130\" y2=\"0\" style=\"stroke-width:2\" />\n",
       "  <line x1=\"14\" y1=\"4\" x2=\"134\" y2=\"4\" />\n",
       "  <line x1=\"18\" y1=\"8\" x2=\"138\" y2=\"8\" />\n",
       "  <line x1=\"23\" y1=\"13\" x2=\"143\" y2=\"13\" />\n",
       "  <line x1=\"27\" y1=\"17\" x2=\"147\" y2=\"17\" />\n",
       "  <line x1=\"31\" y1=\"21\" x2=\"151\" y2=\"21\" style=\"stroke-width:2\" />\n",
       "\n",
       "  <!-- Vertical lines -->\n",
       "  <line x1=\"10\" y1=\"0\" x2=\"31\" y2=\"21\" style=\"stroke-width:2\" />\n",
       "  <line x1=\"130\" y1=\"0\" x2=\"151\" y2=\"21\" style=\"stroke-width:2\" />\n",
       "\n",
       "  <!-- Colored Rectangle -->\n",
       "  <polygon points=\"10.0,0.0 130.0,0.0 151.08469041486956,21.08469041486957 31.08469041486957,21.08469041486957\" style=\"fill:#ECB172A0;stroke-width:0\"/>\n",
       "\n",
       "  <!-- Horizontal lines -->\n",
       "  <line x1=\"31\" y1=\"21\" x2=\"151\" y2=\"21\" style=\"stroke-width:2\" />\n",
       "  <line x1=\"31\" y1=\"58\" x2=\"151\" y2=\"58\" style=\"stroke-width:2\" />\n",
       "\n",
       "  <!-- Vertical lines -->\n",
       "  <line x1=\"31\" y1=\"21\" x2=\"31\" y2=\"58\" style=\"stroke-width:2\" />\n",
       "  <line x1=\"151\" y1=\"21\" x2=\"151\" y2=\"58\" style=\"stroke-width:2\" />\n",
       "\n",
       "  <!-- Colored Rectangle -->\n",
       "  <polygon points=\"31.08469041486957,21.08469041486957 151.08469041486956,21.08469041486957 151.08469041486956,58.96802878764755 31.08469041486957,58.96802878764755\" style=\"fill:#ECB172A0;stroke-width:0\"/>\n",
       "\n",
       "  <!-- Text -->\n",
       "  <text x=\"91.084690\" y=\"78.968029\" font-size=\"1.0rem\" font-weight=\"100\" text-anchor=\"middle\" >3882</text>\n",
       "  <text x=\"171.084690\" y=\"40.026360\" font-size=\"1.0rem\" font-weight=\"100\" text-anchor=\"middle\" transform=\"rotate(-90,171.084690,40.026360)\">342</text>\n",
       "  <text x=\"10.542345\" y=\"68.425684\" font-size=\"1.0rem\" font-weight=\"100\" text-anchor=\"middle\" transform=\"rotate(45,10.542345,68.425684)\">242</text>\n",
       "</svg>\n",
       "        </td>\n",
       "    </tr>\n",
       "</table>"
      ],
      "text/plain": [
       "dask.array<array, shape=(242, 342, 3882), dtype=uint16, chunksize=(50, 342, 3882), chunktype=numpy.ndarray>"
      ]
     },
     "execution_count": 98,
     "metadata": {},
     "output_type": "execute_result"
    }
   ],
   "source": [
    "data_store = tiff.series[0].aszarr()\n",
    "zarr_data = zarr.open(data_store, 'r')\n",
    "data = da.array(zarr_data)\n",
    "data"
   ]
  },
  {
   "cell_type": "code",
   "execution_count": 99,
   "id": "4650f030",
   "metadata": {},
   "outputs": [
    {
     "data": {
      "text/plain": [
       "'sub-I46_sample-BrocaAreaS01_stain-GAD67_SPIM'"
      ]
     },
     "execution_count": 99,
     "metadata": {},
     "output_type": "execute_result"
    }
   ],
   "source": [
    "name = ome.images[0].name\n",
    "name"
   ]
  },
  {
   "cell_type": "code",
   "execution_count": 113,
   "id": "18ed5e3a",
   "metadata": {},
   "outputs": [
    {
     "data": {
      "text/html": [
       "<div><svg style=\"position: absolute; width: 0; height: 0; overflow: hidden\">\n",
       "<defs>\n",
       "<symbol id=\"icon-database\" viewBox=\"0 0 32 32\">\n",
       "<path d=\"M16 0c-8.837 0-16 2.239-16 5v4c0 2.761 7.163 5 16 5s16-2.239 16-5v-4c0-2.761-7.163-5-16-5z\"></path>\n",
       "<path d=\"M16 17c-8.837 0-16-2.239-16-5v6c0 2.761 7.163 5 16 5s16-2.239 16-5v-6c0 2.761-7.163 5-16 5z\"></path>\n",
       "<path d=\"M16 26c-8.837 0-16-2.239-16-5v6c0 2.761 7.163 5 16 5s16-2.239 16-5v-6c0 2.761-7.163 5-16 5z\"></path>\n",
       "</symbol>\n",
       "<symbol id=\"icon-file-text2\" viewBox=\"0 0 32 32\">\n",
       "<path d=\"M28.681 7.159c-0.694-0.947-1.662-2.053-2.724-3.116s-2.169-2.030-3.116-2.724c-1.612-1.182-2.393-1.319-2.841-1.319h-15.5c-1.378 0-2.5 1.121-2.5 2.5v27c0 1.378 1.122 2.5 2.5 2.5h23c1.378 0 2.5-1.122 2.5-2.5v-19.5c0-0.448-0.137-1.23-1.319-2.841zM24.543 5.457c0.959 0.959 1.712 1.825 2.268 2.543h-4.811v-4.811c0.718 0.556 1.584 1.309 2.543 2.268zM28 29.5c0 0.271-0.229 0.5-0.5 0.5h-23c-0.271 0-0.5-0.229-0.5-0.5v-27c0-0.271 0.229-0.5 0.5-0.5 0 0 15.499-0 15.5 0v7c0 0.552 0.448 1 1 1h7v19.5z\"></path>\n",
       "<path d=\"M23 26h-14c-0.552 0-1-0.448-1-1s0.448-1 1-1h14c0.552 0 1 0.448 1 1s-0.448 1-1 1z\"></path>\n",
       "<path d=\"M23 22h-14c-0.552 0-1-0.448-1-1s0.448-1 1-1h14c0.552 0 1 0.448 1 1s-0.448 1-1 1z\"></path>\n",
       "<path d=\"M23 18h-14c-0.552 0-1-0.448-1-1s0.448-1 1-1h14c0.552 0 1 0.448 1 1s-0.448 1-1 1z\"></path>\n",
       "</symbol>\n",
       "</defs>\n",
       "</svg>\n",
       "<style>/* CSS stylesheet for displaying xarray objects in jupyterlab.\n",
       " *\n",
       " */\n",
       "\n",
       ":root {\n",
       "  --xr-font-color0: var(--jp-content-font-color0, rgba(0, 0, 0, 1));\n",
       "  --xr-font-color2: var(--jp-content-font-color2, rgba(0, 0, 0, 0.54));\n",
       "  --xr-font-color3: var(--jp-content-font-color3, rgba(0, 0, 0, 0.38));\n",
       "  --xr-border-color: var(--jp-border-color2, #e0e0e0);\n",
       "  --xr-disabled-color: var(--jp-layout-color3, #bdbdbd);\n",
       "  --xr-background-color: var(--jp-layout-color0, white);\n",
       "  --xr-background-color-row-even: var(--jp-layout-color1, white);\n",
       "  --xr-background-color-row-odd: var(--jp-layout-color2, #eeeeee);\n",
       "}\n",
       "\n",
       "html[theme=dark],\n",
       "body.vscode-dark {\n",
       "  --xr-font-color0: rgba(255, 255, 255, 1);\n",
       "  --xr-font-color2: rgba(255, 255, 255, 0.54);\n",
       "  --xr-font-color3: rgba(255, 255, 255, 0.38);\n",
       "  --xr-border-color: #1F1F1F;\n",
       "  --xr-disabled-color: #515151;\n",
       "  --xr-background-color: #111111;\n",
       "  --xr-background-color-row-even: #111111;\n",
       "  --xr-background-color-row-odd: #313131;\n",
       "}\n",
       "\n",
       ".xr-wrap {\n",
       "  display: block !important;\n",
       "  min-width: 300px;\n",
       "  max-width: 700px;\n",
       "}\n",
       "\n",
       ".xr-text-repr-fallback {\n",
       "  /* fallback to plain text repr when CSS is not injected (untrusted notebook) */\n",
       "  display: none;\n",
       "}\n",
       "\n",
       ".xr-header {\n",
       "  padding-top: 6px;\n",
       "  padding-bottom: 6px;\n",
       "  margin-bottom: 4px;\n",
       "  border-bottom: solid 1px var(--xr-border-color);\n",
       "}\n",
       "\n",
       ".xr-header > div,\n",
       ".xr-header > ul {\n",
       "  display: inline;\n",
       "  margin-top: 0;\n",
       "  margin-bottom: 0;\n",
       "}\n",
       "\n",
       ".xr-obj-type,\n",
       ".xr-array-name {\n",
       "  margin-left: 2px;\n",
       "  margin-right: 10px;\n",
       "}\n",
       "\n",
       ".xr-obj-type {\n",
       "  color: var(--xr-font-color2);\n",
       "}\n",
       "\n",
       ".xr-sections {\n",
       "  padding-left: 0 !important;\n",
       "  display: grid;\n",
       "  grid-template-columns: 150px auto auto 1fr 20px 20px;\n",
       "}\n",
       "\n",
       ".xr-section-item {\n",
       "  display: contents;\n",
       "}\n",
       "\n",
       ".xr-section-item input {\n",
       "  display: none;\n",
       "}\n",
       "\n",
       ".xr-section-item input + label {\n",
       "  color: var(--xr-disabled-color);\n",
       "}\n",
       "\n",
       ".xr-section-item input:enabled + label {\n",
       "  cursor: pointer;\n",
       "  color: var(--xr-font-color2);\n",
       "}\n",
       "\n",
       ".xr-section-item input:enabled + label:hover {\n",
       "  color: var(--xr-font-color0);\n",
       "}\n",
       "\n",
       ".xr-section-summary {\n",
       "  grid-column: 1;\n",
       "  color: var(--xr-font-color2);\n",
       "  font-weight: 500;\n",
       "}\n",
       "\n",
       ".xr-section-summary > span {\n",
       "  display: inline-block;\n",
       "  padding-left: 0.5em;\n",
       "}\n",
       "\n",
       ".xr-section-summary-in:disabled + label {\n",
       "  color: var(--xr-font-color2);\n",
       "}\n",
       "\n",
       ".xr-section-summary-in + label:before {\n",
       "  display: inline-block;\n",
       "  content: '►';\n",
       "  font-size: 11px;\n",
       "  width: 15px;\n",
       "  text-align: center;\n",
       "}\n",
       "\n",
       ".xr-section-summary-in:disabled + label:before {\n",
       "  color: var(--xr-disabled-color);\n",
       "}\n",
       "\n",
       ".xr-section-summary-in:checked + label:before {\n",
       "  content: '▼';\n",
       "}\n",
       "\n",
       ".xr-section-summary-in:checked + label > span {\n",
       "  display: none;\n",
       "}\n",
       "\n",
       ".xr-section-summary,\n",
       ".xr-section-inline-details {\n",
       "  padding-top: 4px;\n",
       "  padding-bottom: 4px;\n",
       "}\n",
       "\n",
       ".xr-section-inline-details {\n",
       "  grid-column: 2 / -1;\n",
       "}\n",
       "\n",
       ".xr-section-details {\n",
       "  display: none;\n",
       "  grid-column: 1 / -1;\n",
       "  margin-bottom: 5px;\n",
       "}\n",
       "\n",
       ".xr-section-summary-in:checked ~ .xr-section-details {\n",
       "  display: contents;\n",
       "}\n",
       "\n",
       ".xr-array-wrap {\n",
       "  grid-column: 1 / -1;\n",
       "  display: grid;\n",
       "  grid-template-columns: 20px auto;\n",
       "}\n",
       "\n",
       ".xr-array-wrap > label {\n",
       "  grid-column: 1;\n",
       "  vertical-align: top;\n",
       "}\n",
       "\n",
       ".xr-preview {\n",
       "  color: var(--xr-font-color3);\n",
       "}\n",
       "\n",
       ".xr-array-preview,\n",
       ".xr-array-data {\n",
       "  padding: 0 5px !important;\n",
       "  grid-column: 2;\n",
       "}\n",
       "\n",
       ".xr-array-data,\n",
       ".xr-array-in:checked ~ .xr-array-preview {\n",
       "  display: none;\n",
       "}\n",
       "\n",
       ".xr-array-in:checked ~ .xr-array-data,\n",
       ".xr-array-preview {\n",
       "  display: inline-block;\n",
       "}\n",
       "\n",
       ".xr-dim-list {\n",
       "  display: inline-block !important;\n",
       "  list-style: none;\n",
       "  padding: 0 !important;\n",
       "  margin: 0;\n",
       "}\n",
       "\n",
       ".xr-dim-list li {\n",
       "  display: inline-block;\n",
       "  padding: 0;\n",
       "  margin: 0;\n",
       "}\n",
       "\n",
       ".xr-dim-list:before {\n",
       "  content: '(';\n",
       "}\n",
       "\n",
       ".xr-dim-list:after {\n",
       "  content: ')';\n",
       "}\n",
       "\n",
       ".xr-dim-list li:not(:last-child):after {\n",
       "  content: ',';\n",
       "  padding-right: 5px;\n",
       "}\n",
       "\n",
       ".xr-has-index {\n",
       "  font-weight: bold;\n",
       "}\n",
       "\n",
       ".xr-var-list,\n",
       ".xr-var-item {\n",
       "  display: contents;\n",
       "}\n",
       "\n",
       ".xr-var-item > div,\n",
       ".xr-var-item label,\n",
       ".xr-var-item > .xr-var-name span {\n",
       "  background-color: var(--xr-background-color-row-even);\n",
       "  margin-bottom: 0;\n",
       "}\n",
       "\n",
       ".xr-var-item > .xr-var-name:hover span {\n",
       "  padding-right: 5px;\n",
       "}\n",
       "\n",
       ".xr-var-list > li:nth-child(odd) > div,\n",
       ".xr-var-list > li:nth-child(odd) > label,\n",
       ".xr-var-list > li:nth-child(odd) > .xr-var-name span {\n",
       "  background-color: var(--xr-background-color-row-odd);\n",
       "}\n",
       "\n",
       ".xr-var-name {\n",
       "  grid-column: 1;\n",
       "}\n",
       "\n",
       ".xr-var-dims {\n",
       "  grid-column: 2;\n",
       "}\n",
       "\n",
       ".xr-var-dtype {\n",
       "  grid-column: 3;\n",
       "  text-align: right;\n",
       "  color: var(--xr-font-color2);\n",
       "}\n",
       "\n",
       ".xr-var-preview {\n",
       "  grid-column: 4;\n",
       "}\n",
       "\n",
       ".xr-var-name,\n",
       ".xr-var-dims,\n",
       ".xr-var-dtype,\n",
       ".xr-preview,\n",
       ".xr-attrs dt {\n",
       "  white-space: nowrap;\n",
       "  overflow: hidden;\n",
       "  text-overflow: ellipsis;\n",
       "  padding-right: 10px;\n",
       "}\n",
       "\n",
       ".xr-var-name:hover,\n",
       ".xr-var-dims:hover,\n",
       ".xr-var-dtype:hover,\n",
       ".xr-attrs dt:hover {\n",
       "  overflow: visible;\n",
       "  width: auto;\n",
       "  z-index: 1;\n",
       "}\n",
       "\n",
       ".xr-var-attrs,\n",
       ".xr-var-data {\n",
       "  display: none;\n",
       "  background-color: var(--xr-background-color) !important;\n",
       "  padding-bottom: 5px !important;\n",
       "}\n",
       "\n",
       ".xr-var-attrs-in:checked ~ .xr-var-attrs,\n",
       ".xr-var-data-in:checked ~ .xr-var-data {\n",
       "  display: block;\n",
       "}\n",
       "\n",
       ".xr-var-data > table {\n",
       "  float: right;\n",
       "}\n",
       "\n",
       ".xr-var-name span,\n",
       ".xr-var-data,\n",
       ".xr-attrs {\n",
       "  padding-left: 25px !important;\n",
       "}\n",
       "\n",
       ".xr-attrs,\n",
       ".xr-var-attrs,\n",
       ".xr-var-data {\n",
       "  grid-column: 1 / -1;\n",
       "}\n",
       "\n",
       "dl.xr-attrs {\n",
       "  padding: 0;\n",
       "  margin: 0;\n",
       "  display: grid;\n",
       "  grid-template-columns: 125px auto;\n",
       "}\n",
       "\n",
       ".xr-attrs dt,\n",
       ".xr-attrs dd {\n",
       "  padding: 0;\n",
       "  margin: 0;\n",
       "  float: left;\n",
       "  padding-right: 10px;\n",
       "  width: auto;\n",
       "}\n",
       "\n",
       ".xr-attrs dt {\n",
       "  font-weight: normal;\n",
       "  grid-column: 1;\n",
       "}\n",
       "\n",
       ".xr-attrs dt:hover span {\n",
       "  display: inline-block;\n",
       "  background: var(--xr-background-color);\n",
       "  padding-right: 10px;\n",
       "}\n",
       "\n",
       ".xr-attrs dd {\n",
       "  grid-column: 2;\n",
       "  white-space: pre-wrap;\n",
       "  word-break: break-all;\n",
       "}\n",
       "\n",
       ".xr-icon-database,\n",
       ".xr-icon-file-text2 {\n",
       "  display: inline-block;\n",
       "  vertical-align: middle;\n",
       "  width: 1em;\n",
       "  height: 1.5em !important;\n",
       "  stroke-width: 0;\n",
       "  stroke: currentColor;\n",
       "  fill: currentColor;\n",
       "}\n",
       "</style><pre class='xr-text-repr-fallback'>&lt;xarray.SpatialImage &#x27;sub-I46_sample-BrocaAreaS01_stain-GAD67_SPIM&#x27; (z: 242,\n",
       "                                                                     y: 342,\n",
       "                                                                     x: 3882)&gt;\n",
       "dask.array&lt;array, shape=(242, 342, 3882), dtype=uint16, chunksize=(50, 342, 3882), chunktype=numpy.ndarray&gt;\n",
       "Coordinates:\n",
       "  * z        (z) float64 0.0 3.3 6.6 9.9 13.2 ... 782.1 785.4 788.7 792.0 795.3\n",
       "  * y        (y) float64 0.0 3.3 6.6 9.9 ... 1.119e+03 1.122e+03 1.125e+03\n",
       "  * x        (x) float64 0.0 3.3 6.6 9.9 ... 1.28e+04 1.28e+04 1.281e+04</pre><div class='xr-wrap' style='display:none'><div class='xr-header'><div class='xr-obj-type'>xarray.SpatialImage</div><div class='xr-array-name'>'sub-I46_sample-BrocaAreaS01_stain-GAD67_SPIM'</div><ul class='xr-dim-list'><li><span class='xr-has-index'>z</span>: 242</li><li><span class='xr-has-index'>y</span>: 342</li><li><span class='xr-has-index'>x</span>: 3882</li></ul></div><ul class='xr-sections'><li class='xr-section-item'><div class='xr-array-wrap'><input id='section-5c9697bf-7ae9-4960-af64-8636df67b890' class='xr-array-in' type='checkbox' checked><label for='section-5c9697bf-7ae9-4960-af64-8636df67b890' title='Show/hide data repr'><svg class='icon xr-icon-database'><use xlink:href='#icon-database'></use></svg></label><div class='xr-array-preview xr-preview'><span>dask.array&lt;chunksize=(50, 342, 3882), meta=np.ndarray&gt;</span></div><div class='xr-array-data'><table>\n",
       "    <tr>\n",
       "        <td>\n",
       "            <table>\n",
       "                <thead>\n",
       "                    <tr>\n",
       "                        <td> </td>\n",
       "                        <th> Array </th>\n",
       "                        <th> Chunk </th>\n",
       "                    </tr>\n",
       "                </thead>\n",
       "                <tbody>\n",
       "                    \n",
       "                    <tr>\n",
       "                        <th> Bytes </th>\n",
       "                        <td> 612.81 MiB </td>\n",
       "                        <td> 126.61 MiB </td>\n",
       "                    </tr>\n",
       "                    \n",
       "                    <tr>\n",
       "                        <th> Shape </th>\n",
       "                        <td> (242, 342, 3882) </td>\n",
       "                        <td> (50, 342, 3882) </td>\n",
       "                    </tr>\n",
       "                    <tr>\n",
       "                        <th> Count </th>\n",
       "                        <td> 6 Tasks </td>\n",
       "                        <td> 5 Chunks </td>\n",
       "                    </tr>\n",
       "                    <tr>\n",
       "                    <th> Type </th>\n",
       "                    <td> uint16 </td>\n",
       "                    <td> numpy.ndarray </td>\n",
       "                    </tr>\n",
       "                </tbody>\n",
       "            </table>\n",
       "        </td>\n",
       "        <td>\n",
       "        <svg width=\"201\" height=\"108\" style=\"stroke:rgb(0,0,0);stroke-width:1\" >\n",
       "\n",
       "  <!-- Horizontal lines -->\n",
       "  <line x1=\"10\" y1=\"0\" x2=\"31\" y2=\"21\" style=\"stroke-width:2\" />\n",
       "  <line x1=\"10\" y1=\"37\" x2=\"31\" y2=\"58\" style=\"stroke-width:2\" />\n",
       "\n",
       "  <!-- Vertical lines -->\n",
       "  <line x1=\"10\" y1=\"0\" x2=\"10\" y2=\"37\" style=\"stroke-width:2\" />\n",
       "  <line x1=\"14\" y1=\"4\" x2=\"14\" y2=\"42\" />\n",
       "  <line x1=\"18\" y1=\"8\" x2=\"18\" y2=\"46\" />\n",
       "  <line x1=\"23\" y1=\"13\" x2=\"23\" y2=\"50\" />\n",
       "  <line x1=\"27\" y1=\"17\" x2=\"27\" y2=\"55\" />\n",
       "  <line x1=\"31\" y1=\"21\" x2=\"31\" y2=\"58\" style=\"stroke-width:2\" />\n",
       "\n",
       "  <!-- Colored Rectangle -->\n",
       "  <polygon points=\"10.0,0.0 31.08469041486957,21.08469041486957 31.08469041486957,58.96802878764755 10.0,37.88333837277798\" style=\"fill:#ECB172A0;stroke-width:0\"/>\n",
       "\n",
       "  <!-- Horizontal lines -->\n",
       "  <line x1=\"10\" y1=\"0\" x2=\"130\" y2=\"0\" style=\"stroke-width:2\" />\n",
       "  <line x1=\"14\" y1=\"4\" x2=\"134\" y2=\"4\" />\n",
       "  <line x1=\"18\" y1=\"8\" x2=\"138\" y2=\"8\" />\n",
       "  <line x1=\"23\" y1=\"13\" x2=\"143\" y2=\"13\" />\n",
       "  <line x1=\"27\" y1=\"17\" x2=\"147\" y2=\"17\" />\n",
       "  <line x1=\"31\" y1=\"21\" x2=\"151\" y2=\"21\" style=\"stroke-width:2\" />\n",
       "\n",
       "  <!-- Vertical lines -->\n",
       "  <line x1=\"10\" y1=\"0\" x2=\"31\" y2=\"21\" style=\"stroke-width:2\" />\n",
       "  <line x1=\"130\" y1=\"0\" x2=\"151\" y2=\"21\" style=\"stroke-width:2\" />\n",
       "\n",
       "  <!-- Colored Rectangle -->\n",
       "  <polygon points=\"10.0,0.0 130.0,0.0 151.08469041486956,21.08469041486957 31.08469041486957,21.08469041486957\" style=\"fill:#ECB172A0;stroke-width:0\"/>\n",
       "\n",
       "  <!-- Horizontal lines -->\n",
       "  <line x1=\"31\" y1=\"21\" x2=\"151\" y2=\"21\" style=\"stroke-width:2\" />\n",
       "  <line x1=\"31\" y1=\"58\" x2=\"151\" y2=\"58\" style=\"stroke-width:2\" />\n",
       "\n",
       "  <!-- Vertical lines -->\n",
       "  <line x1=\"31\" y1=\"21\" x2=\"31\" y2=\"58\" style=\"stroke-width:2\" />\n",
       "  <line x1=\"151\" y1=\"21\" x2=\"151\" y2=\"58\" style=\"stroke-width:2\" />\n",
       "\n",
       "  <!-- Colored Rectangle -->\n",
       "  <polygon points=\"31.08469041486957,21.08469041486957 151.08469041486956,21.08469041486957 151.08469041486956,58.96802878764755 31.08469041486957,58.96802878764755\" style=\"fill:#ECB172A0;stroke-width:0\"/>\n",
       "\n",
       "  <!-- Text -->\n",
       "  <text x=\"91.084690\" y=\"78.968029\" font-size=\"1.0rem\" font-weight=\"100\" text-anchor=\"middle\" >3882</text>\n",
       "  <text x=\"171.084690\" y=\"40.026360\" font-size=\"1.0rem\" font-weight=\"100\" text-anchor=\"middle\" transform=\"rotate(-90,171.084690,40.026360)\">342</text>\n",
       "  <text x=\"10.542345\" y=\"68.425684\" font-size=\"1.0rem\" font-weight=\"100\" text-anchor=\"middle\" transform=\"rotate(45,10.542345,68.425684)\">242</text>\n",
       "</svg>\n",
       "        </td>\n",
       "    </tr>\n",
       "</table></div></div></li><li class='xr-section-item'><input id='section-8dab55ed-4866-477e-b01b-4a5fc40ec381' class='xr-section-summary-in' type='checkbox'  checked><label for='section-8dab55ed-4866-477e-b01b-4a5fc40ec381' class='xr-section-summary' >Coordinates: <span>(3)</span></label><div class='xr-section-inline-details'></div><div class='xr-section-details'><ul class='xr-var-list'><li class='xr-var-item'><div class='xr-var-name'><span class='xr-has-index'>z</span></div><div class='xr-var-dims'>(z)</div><div class='xr-var-dtype'>float64</div><div class='xr-var-preview xr-preview'>0.0 3.3 6.6 ... 788.7 792.0 795.3</div><input id='attrs-4cd7fd6b-ca0e-49ea-ba35-4bf47512151d' class='xr-var-attrs-in' type='checkbox' ><label for='attrs-4cd7fd6b-ca0e-49ea-ba35-4bf47512151d' title='Show/Hide attributes'><svg class='icon xr-icon-file-text2'><use xlink:href='#icon-file-text2'></use></svg></label><input id='data-f8fd2f7e-0ac1-4087-8d13-64f8b81d2aa1' class='xr-var-data-in' type='checkbox'><label for='data-f8fd2f7e-0ac1-4087-8d13-64f8b81d2aa1' title='Show/Hide data repr'><svg class='icon xr-icon-database'><use xlink:href='#icon-database'></use></svg></label><div class='xr-var-attrs'><dl class='xr-attrs'><dt><span>long_name :</span></dt><dd>z</dd><dt><span>units :</span></dt><dd>micrometer</dd></dl></div><div class='xr-var-data'><pre>array([  0. ,   3.3,   6.6, ..., 788.7, 792. , 795.3])</pre></div></li><li class='xr-var-item'><div class='xr-var-name'><span class='xr-has-index'>y</span></div><div class='xr-var-dims'>(y)</div><div class='xr-var-dtype'>float64</div><div class='xr-var-preview xr-preview'>0.0 3.3 6.6 ... 1.122e+03 1.125e+03</div><input id='attrs-b72ea656-3845-498a-a42e-e26ab76a53f0' class='xr-var-attrs-in' type='checkbox' ><label for='attrs-b72ea656-3845-498a-a42e-e26ab76a53f0' title='Show/Hide attributes'><svg class='icon xr-icon-file-text2'><use xlink:href='#icon-file-text2'></use></svg></label><input id='data-eda15115-682c-4ffa-978e-6f9f9a5e3119' class='xr-var-data-in' type='checkbox'><label for='data-eda15115-682c-4ffa-978e-6f9f9a5e3119' title='Show/Hide data repr'><svg class='icon xr-icon-database'><use xlink:href='#icon-database'></use></svg></label><div class='xr-var-attrs'><dl class='xr-attrs'><dt><span>long_name :</span></dt><dd>y</dd><dt><span>units :</span></dt><dd>micrometer</dd></dl></div><div class='xr-var-data'><pre>array([   0. ,    3.3,    6.6, ..., 1118.7, 1122. , 1125.3])</pre></div></li><li class='xr-var-item'><div class='xr-var-name'><span class='xr-has-index'>x</span></div><div class='xr-var-dims'>(x)</div><div class='xr-var-dtype'>float64</div><div class='xr-var-preview xr-preview'>0.0 3.3 6.6 ... 1.28e+04 1.281e+04</div><input id='attrs-65c412c3-9a61-4c4d-9b28-78ade69285b5' class='xr-var-attrs-in' type='checkbox' ><label for='attrs-65c412c3-9a61-4c4d-9b28-78ade69285b5' title='Show/Hide attributes'><svg class='icon xr-icon-file-text2'><use xlink:href='#icon-file-text2'></use></svg></label><input id='data-7adeadb6-d9eb-4409-b069-cbcbea4d0442' class='xr-var-data-in' type='checkbox'><label for='data-7adeadb6-d9eb-4409-b069-cbcbea4d0442' title='Show/Hide data repr'><svg class='icon xr-icon-database'><use xlink:href='#icon-database'></use></svg></label><div class='xr-var-attrs'><dl class='xr-attrs'><dt><span>long_name :</span></dt><dd>x</dd><dt><span>units :</span></dt><dd>micrometer</dd></dl></div><div class='xr-var-data'><pre>array([0.00000e+00, 3.30000e+00, 6.60000e+00, ..., 1.28007e+04, 1.28040e+04,\n",
       "       1.28073e+04])</pre></div></li></ul></div></li><li class='xr-section-item'><input id='section-2b2bbee2-6818-4d6a-a379-534dc81309cd' class='xr-section-summary-in' type='checkbox' disabled ><label for='section-2b2bbee2-6818-4d6a-a379-534dc81309cd' class='xr-section-summary'  title='Expand/collapse section'>Attributes: <span>(0)</span></label><div class='xr-section-inline-details'></div><div class='xr-section-details'><dl class='xr-attrs'></dl></div></li></ul></div></div>"
      ],
      "text/plain": [
       "<xarray.SpatialImage 'sub-I46_sample-BrocaAreaS01_stain-GAD67_SPIM' (z: 242,\n",
       "                                                                     y: 342,\n",
       "                                                                     x: 3882)>\n",
       "dask.array<array, shape=(242, 342, 3882), dtype=uint16, chunksize=(50, 342, 3882), chunktype=numpy.ndarray>\n",
       "Coordinates:\n",
       "  * z        (z) float64 0.0 3.3 6.6 9.9 13.2 ... 782.1 785.4 788.7 792.0 795.3\n",
       "  * y        (y) float64 0.0 3.3 6.6 9.9 ... 1.119e+03 1.122e+03 1.125e+03\n",
       "  * x        (x) float64 0.0 3.3 6.6 9.9 ... 1.28e+04 1.28e+04 1.281e+04"
      ]
     },
     "execution_count": 113,
     "metadata": {},
     "output_type": "execute_result"
    }
   ],
   "source": [
    "image = to_spatial_image(data, dims=dims, name=name, scale=scale, axis_units=axis_units)\n",
    "image"
   ]
  },
  {
   "cell_type": "markdown",
   "id": "dd03e2b4",
   "metadata": {},
   "source": [
    "## Generate isotropically chunked, multiscale spatial image"
   ]
  },
  {
   "cell_type": "code",
   "execution_count": 115,
   "id": "a0eba925",
   "metadata": {},
   "outputs": [
    {
     "name": "stdout",
     "output_type": "stream",
     "text": [
      "DataTree('multiscales', parent=None)\n",
      "├── DataTree('scale0')\n",
      "│   Dimensions:                                       (z: 242, y: 342, x: 3882)\n",
      "│   Coordinates:\n",
      "│     * z                                             (z) float64 0.0 3.3 ... 795.3\n",
      "│     * y                                             (y) float64 0.0 ... 1.125e+03\n",
      "│     * x                                             (x) float64 0.0 ... 1.281e+04\n",
      "│   Data variables:\n",
      "│       sub-I46_sample-BrocaAreaS01_stain-GAD67_SPIM  (z, y, x) uint16 dask.array<chunksize=(64, 64, 64), meta=np.ndarray>\n",
      "├── DataTree('scale1')\n",
      "│   Dimensions:                                       (z: 242, y: 342, x: 1941)\n",
      "│   Coordinates:\n",
      "│     * z                                             (z) float64 0.0 3.3 ... 795.3\n",
      "│     * y                                             (y) float64 0.0 ... 1.125e+03\n",
      "│     * x                                             (x) float64 1.65 ... 1.281e+04\n",
      "│   Data variables:\n",
      "│       sub-I46_sample-BrocaAreaS01_stain-GAD67_SPIM  (z, y, x) uint16 dask.array<chunksize=(64, 64, 64), meta=np.ndarray>\n",
      "├── DataTree('scale2')\n",
      "│   Dimensions:                                       (z: 121, y: 171, x: 485)\n",
      "│   Coordinates:\n",
      "│     * z                                             (z) float64 1.65 ... 793.6\n",
      "│     * y                                             (y) float64 1.65 ... 1.124e+03\n",
      "│     * x                                             (x) float64 18.15 ... 1.28e+04\n",
      "│   Data variables:\n",
      "│       sub-I46_sample-BrocaAreaS01_stain-GAD67_SPIM  (z, y, x) uint16 dask.array<chunksize=(64, 64, 64), meta=np.ndarray>\n",
      "└── DataTree('scale3')\n",
      "    Dimensions:                                       (z: 30, y: 42, x: 60)\n",
      "    Coordinates:\n",
      "      * z                                             (z) float64 18.15 ... 783.7\n",
      "      * y                                             (y) float64 31.35 ... 1.114...\n",
      "      * x                                             (x) float64 242.6 ... 1.27e+04\n",
      "    Data variables:\n",
      "        sub-I46_sample-BrocaAreaS01_stain-GAD67_SPIM  (z, y, x) uint16 dask.array<chunksize=(30, 42, 60), meta=np.ndarray>\n"
     ]
    }
   ],
   "source": [
    "multiscale = to_multiscale(image, [{'x':2,'y':1,'z':1},{'x':4,'y':2,'z':2},{'x':8,'y':4,'z':4}])\n",
    "print(multiscale)"
   ]
  },
  {
   "cell_type": "code",
   "execution_count": 119,
   "id": "f7108355",
   "metadata": {},
   "outputs": [
    {
     "data": {
      "text/html": [
       "<table>\n",
       "    <tr>\n",
       "        <td>\n",
       "            <table>\n",
       "                <thead>\n",
       "                    <tr>\n",
       "                        <td> </td>\n",
       "                        <th> Array </th>\n",
       "                        <th> Chunk </th>\n",
       "                    </tr>\n",
       "                </thead>\n",
       "                <tbody>\n",
       "                    \n",
       "                    <tr>\n",
       "                        <th> Bytes </th>\n",
       "                        <td> 612.81 MiB </td>\n",
       "                        <td> 512.00 kiB </td>\n",
       "                    </tr>\n",
       "                    \n",
       "                    <tr>\n",
       "                        <th> Shape </th>\n",
       "                        <td> (242, 342, 3882) </td>\n",
       "                        <td> (64, 64, 64) </td>\n",
       "                    </tr>\n",
       "                    <tr>\n",
       "                        <th> Count </th>\n",
       "                        <td> 4398 Tasks </td>\n",
       "                        <td> 1464 Chunks </td>\n",
       "                    </tr>\n",
       "                    <tr>\n",
       "                    <th> Type </th>\n",
       "                    <td> uint16 </td>\n",
       "                    <td> numpy.ndarray </td>\n",
       "                    </tr>\n",
       "                </tbody>\n",
       "            </table>\n",
       "        </td>\n",
       "        <td>\n",
       "        <svg width=\"201\" height=\"108\" style=\"stroke:rgb(0,0,0);stroke-width:1\" >\n",
       "\n",
       "  <!-- Horizontal lines -->\n",
       "  <line x1=\"10\" y1=\"0\" x2=\"31\" y2=\"21\" style=\"stroke-width:2\" />\n",
       "  <line x1=\"10\" y1=\"7\" x2=\"31\" y2=\"28\" />\n",
       "  <line x1=\"10\" y1=\"14\" x2=\"31\" y2=\"35\" />\n",
       "  <line x1=\"10\" y1=\"21\" x2=\"31\" y2=\"42\" />\n",
       "  <line x1=\"10\" y1=\"28\" x2=\"31\" y2=\"49\" />\n",
       "  <line x1=\"10\" y1=\"35\" x2=\"31\" y2=\"56\" />\n",
       "  <line x1=\"10\" y1=\"37\" x2=\"31\" y2=\"58\" style=\"stroke-width:2\" />\n",
       "\n",
       "  <!-- Vertical lines -->\n",
       "  <line x1=\"10\" y1=\"0\" x2=\"10\" y2=\"37\" style=\"stroke-width:2\" />\n",
       "  <line x1=\"15\" y1=\"5\" x2=\"15\" y2=\"43\" />\n",
       "  <line x1=\"21\" y1=\"11\" x2=\"21\" y2=\"49\" />\n",
       "  <line x1=\"26\" y1=\"16\" x2=\"26\" y2=\"54\" />\n",
       "  <line x1=\"31\" y1=\"21\" x2=\"31\" y2=\"58\" style=\"stroke-width:2\" />\n",
       "\n",
       "  <!-- Colored Rectangle -->\n",
       "  <polygon points=\"10.0,0.0 31.08469041486957,21.08469041486957 31.08469041486957,58.96802878764755 10.0,37.88333837277798\" style=\"fill:#ECB172A0;stroke-width:0\"/>\n",
       "\n",
       "  <!-- Horizontal lines -->\n",
       "  <line x1=\"10\" y1=\"0\" x2=\"130\" y2=\"0\" style=\"stroke-width:2\" />\n",
       "  <line x1=\"15\" y1=\"5\" x2=\"135\" y2=\"5\" />\n",
       "  <line x1=\"21\" y1=\"11\" x2=\"141\" y2=\"11\" />\n",
       "  <line x1=\"26\" y1=\"16\" x2=\"146\" y2=\"16\" />\n",
       "  <line x1=\"31\" y1=\"21\" x2=\"151\" y2=\"21\" style=\"stroke-width:2\" />\n",
       "\n",
       "  <!-- Vertical lines -->\n",
       "  <line x1=\"10\" y1=\"0\" x2=\"31\" y2=\"21\" style=\"stroke-width:2\" />\n",
       "  <line x1=\"15\" y1=\"0\" x2=\"37\" y2=\"21\" />\n",
       "  <line x1=\"21\" y1=\"0\" x2=\"42\" y2=\"21\" />\n",
       "  <line x1=\"27\" y1=\"0\" x2=\"48\" y2=\"21\" />\n",
       "  <line x1=\"33\" y1=\"0\" x2=\"54\" y2=\"21\" />\n",
       "  <line x1=\"41\" y1=\"0\" x2=\"62\" y2=\"21\" />\n",
       "  <line x1=\"47\" y1=\"0\" x2=\"68\" y2=\"21\" />\n",
       "  <line x1=\"53\" y1=\"0\" x2=\"74\" y2=\"21\" />\n",
       "  <line x1=\"59\" y1=\"0\" x2=\"80\" y2=\"21\" />\n",
       "  <line x1=\"65\" y1=\"0\" x2=\"86\" y2=\"21\" />\n",
       "  <line x1=\"73\" y1=\"0\" x2=\"94\" y2=\"21\" />\n",
       "  <line x1=\"79\" y1=\"0\" x2=\"100\" y2=\"21\" />\n",
       "  <line x1=\"85\" y1=\"0\" x2=\"106\" y2=\"21\" />\n",
       "  <line x1=\"91\" y1=\"0\" x2=\"112\" y2=\"21\" />\n",
       "  <line x1=\"97\" y1=\"0\" x2=\"118\" y2=\"21\" />\n",
       "  <line x1=\"104\" y1=\"0\" x2=\"126\" y2=\"21\" />\n",
       "  <line x1=\"110\" y1=\"0\" x2=\"131\" y2=\"21\" />\n",
       "  <line x1=\"116\" y1=\"0\" x2=\"137\" y2=\"21\" />\n",
       "  <line x1=\"122\" y1=\"0\" x2=\"143\" y2=\"21\" />\n",
       "  <line x1=\"130\" y1=\"0\" x2=\"151\" y2=\"21\" style=\"stroke-width:2\" />\n",
       "\n",
       "  <!-- Colored Rectangle -->\n",
       "  <polygon points=\"10.0,0.0 130.0,0.0 151.08469041486956,21.08469041486957 31.08469041486957,21.08469041486957\" style=\"fill:#8B4903A0;stroke-width:0\"/>\n",
       "\n",
       "  <!-- Horizontal lines -->\n",
       "  <line x1=\"31\" y1=\"21\" x2=\"151\" y2=\"21\" style=\"stroke-width:2\" />\n",
       "  <line x1=\"31\" y1=\"28\" x2=\"151\" y2=\"28\" />\n",
       "  <line x1=\"31\" y1=\"35\" x2=\"151\" y2=\"35\" />\n",
       "  <line x1=\"31\" y1=\"42\" x2=\"151\" y2=\"42\" />\n",
       "  <line x1=\"31\" y1=\"49\" x2=\"151\" y2=\"49\" />\n",
       "  <line x1=\"31\" y1=\"56\" x2=\"151\" y2=\"56\" />\n",
       "  <line x1=\"31\" y1=\"58\" x2=\"151\" y2=\"58\" style=\"stroke-width:2\" />\n",
       "\n",
       "  <!-- Vertical lines -->\n",
       "  <line x1=\"31\" y1=\"21\" x2=\"31\" y2=\"58\" style=\"stroke-width:2\" />\n",
       "  <line x1=\"37\" y1=\"21\" x2=\"37\" y2=\"58\" />\n",
       "  <line x1=\"42\" y1=\"21\" x2=\"42\" y2=\"58\" />\n",
       "  <line x1=\"48\" y1=\"21\" x2=\"48\" y2=\"58\" />\n",
       "  <line x1=\"54\" y1=\"21\" x2=\"54\" y2=\"58\" />\n",
       "  <line x1=\"62\" y1=\"21\" x2=\"62\" y2=\"58\" />\n",
       "  <line x1=\"68\" y1=\"21\" x2=\"68\" y2=\"58\" />\n",
       "  <line x1=\"74\" y1=\"21\" x2=\"74\" y2=\"58\" />\n",
       "  <line x1=\"80\" y1=\"21\" x2=\"80\" y2=\"58\" />\n",
       "  <line x1=\"86\" y1=\"21\" x2=\"86\" y2=\"58\" />\n",
       "  <line x1=\"94\" y1=\"21\" x2=\"94\" y2=\"58\" />\n",
       "  <line x1=\"100\" y1=\"21\" x2=\"100\" y2=\"58\" />\n",
       "  <line x1=\"106\" y1=\"21\" x2=\"106\" y2=\"58\" />\n",
       "  <line x1=\"112\" y1=\"21\" x2=\"112\" y2=\"58\" />\n",
       "  <line x1=\"118\" y1=\"21\" x2=\"118\" y2=\"58\" />\n",
       "  <line x1=\"126\" y1=\"21\" x2=\"126\" y2=\"58\" />\n",
       "  <line x1=\"131\" y1=\"21\" x2=\"131\" y2=\"58\" />\n",
       "  <line x1=\"137\" y1=\"21\" x2=\"137\" y2=\"58\" />\n",
       "  <line x1=\"143\" y1=\"21\" x2=\"143\" y2=\"58\" />\n",
       "  <line x1=\"151\" y1=\"21\" x2=\"151\" y2=\"58\" style=\"stroke-width:2\" />\n",
       "\n",
       "  <!-- Colored Rectangle -->\n",
       "  <polygon points=\"31.08469041486957,21.08469041486957 151.08469041486956,21.08469041486957 151.08469041486956,58.96802878764755 31.08469041486957,58.96802878764755\" style=\"fill:#8B4903A0;stroke-width:0\"/>\n",
       "\n",
       "  <!-- Text -->\n",
       "  <text x=\"91.084690\" y=\"78.968029\" font-size=\"1.0rem\" font-weight=\"100\" text-anchor=\"middle\" >3882</text>\n",
       "  <text x=\"171.084690\" y=\"40.026360\" font-size=\"1.0rem\" font-weight=\"100\" text-anchor=\"middle\" transform=\"rotate(-90,171.084690,40.026360)\">342</text>\n",
       "  <text x=\"10.542345\" y=\"68.425684\" font-size=\"1.0rem\" font-weight=\"100\" text-anchor=\"middle\" transform=\"rotate(45,10.542345,68.425684)\">242</text>\n",
       "</svg>\n",
       "        </td>\n",
       "    </tr>\n",
       "</table>"
      ],
      "text/plain": [
       "dask.array<rechunk-merge, shape=(242, 342, 3882), dtype=uint16, chunksize=(64, 64, 64), chunktype=numpy.ndarray>"
      ]
     },
     "execution_count": 119,
     "metadata": {},
     "output_type": "execute_result"
    }
   ],
   "source": [
    "# Now the data has isotropic chunking\n",
    "multiscale['scale0'].ds[name].data"
   ]
  },
  {
   "cell_type": "code",
   "execution_count": 121,
   "id": "2342795c",
   "metadata": {},
   "outputs": [
    {
     "data": {
      "text/plain": [
       "<matplotlib.image.AxesImage at 0x7f770c18ff10>"
      ]
     },
     "execution_count": 121,
     "metadata": {},
     "output_type": "execute_result"
    },
    {
     "data": {
      "image/png": "[encoded data removed]",
      "text/plain": [
       "<Figure size 432x288 with 2 Axes>"
      ]
     },
     "metadata": {
      "needs_background": "light"
     },
     "output_type": "display_data"
    }
   ],
   "source": [
    "multiscale['scale2'].ds[name].isel(x=250).plot.imshow()"
   ]
  },
  {
   "cell_type": "code",
   "execution_count": 122,
   "id": "998fe844",
   "metadata": {},
   "outputs": [
    {
     "data": {
      "text/plain": [
       "<matplotlib.image.AxesImage at 0x7f7707b0c160>"
      ]
     },
     "execution_count": 122,
     "metadata": {},
     "output_type": "execute_result"
    },
    {
     "data": {
      "image/png": "[encoded data removed]",
      "text/plain": [
       "<Figure size 432x288 with 2 Axes>"
      ]
     },
     "metadata": {
      "needs_background": "light"
     },
     "output_type": "display_data"
    }
   ],
   "source": [
    "multiscale['scale2'].ds[name].isel(y=100).plot.imshow()"
   ]
  },
  {
   "cell_type": "code",
   "execution_count": 123,
   "id": "c0382d35",
   "metadata": {},
   "outputs": [
    {
     "data": {
      "text/plain": [
       "<matplotlib.image.AxesImage at 0x7f770781ea60>"
      ]
     },
     "execution_count": 123,
     "metadata": {},
     "output_type": "execute_result"
    },
    {
     "data": {
      "image/png": "[encoded data removed]",
      "text/plain": [
       "<Figure size 432x288 with 2 Axes>"
      ]
     },
     "metadata": {
      "needs_background": "light"
     },
     "output_type": "display_data"
    }
   ],
   "source": [
    "multiscale['scale2'].ds[name].isel(z=100).plot.imshow()"
   ]
  },
  {
   "cell_type": "markdown",
   "id": "cd7eec14",
   "metadata": {},
   "source": [
    "## Serialize as OME-NGFF Zarr \n",
    "\n",
    "Generate an [OME-NGFF](https://ngff.openmicroscopy.org/latest/) dataset.\n",
    "\n",
    "This also uses the [*bioformats2raw* transitional layout](https://github.com/ome/ngff/pull/112) to preserve the OME-XML metadata."
   ]
  },
  {
   "cell_type": "code",
   "execution_count": 132,
   "id": "554a5c53",
   "metadata": {},
   "outputs": [],
   "source": [
    "store = zarr.storage.DirectoryStore(f'{image_name}.zarr', dimension_separator='/')\n",
    "group = zarr.group(store, overwrite=True)\n",
    "group.attrs['bioformats2raw.layout'] = 3\n",
    "store['OME/METADATA.ome.xml'] = tiff.ome_metadata.encode('utf-8')\n",
    "\n",
    "store = zarr.storage.DirectoryStore(f'{image_name}.zarr/0', dimension_separator='/')\n",
    "multiscale.to_zarr(store)"
   ]
  },
  {
   "cell_type": "code",
   "execution_count": null,
   "id": "52283bcb",
   "metadata": {},
   "outputs": [],
   "source": []
  },
  {
   "cell_type": "markdown",
   "id": "c9eb9655",
   "metadata": {},
   "source": [
    "## WIP: Serialize as OME-TIFF with sharded Zarr / FSSpec view"
   ]
  },
  {
   "cell_type": "code",
   "execution_count": null,
   "id": "b8408c72",
   "metadata": {},
   "outputs": [],
   "source": [
    "with tifffile.TiffWriter('{image_name}_isotropic_multiscale.ome.tif', ome=True, bigtiff=True) as tif:\n",
    "...     options = dict(photometric='minisblack', tile=(64, 64, 64), compression='zlib')\n",
    "...     metadata={'axes': tiff.axes}\n",
    "...     tif.write(data, subifds=2, **options)\n",
    "...     # save pyramid levels to the two subifds\n",
    "...     # in production use resampling to generate sub-resolutions\n",
    "...     tif.write(data[:, ::2, ::2], subfiletype=1, **options)\n",
    "...     tif.write(data[:, ::4, ::4], subfiletype=1, **options)"
   ]
  },
  {
   "cell_type": "code",
   "execution_count": null,
   "id": "6fbc64ca",
   "metadata": {},
   "outputs": [],
   "source": [
    "tiff.close()"
   ]
  }
 ],
 "metadata": {
  "kernelspec": {
   "display_name": "Python 3 (ipykernel)",
   "language": "python",
   "name": "python3"
  },
  "language_info": {
   "codemirror_mode": {
    "name": "ipython",
    "version": 3
   },
   "file_extension": ".py",
   "mimetype": "text/x-python",
   "name": "python",
   "nbconvert_exporter": "python",
   "pygments_lexer": "ipython3",
   "version": "3.9.10"
  }
 },
 "nbformat": 4,
 "nbformat_minor": 5
}
